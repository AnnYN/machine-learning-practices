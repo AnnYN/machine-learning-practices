{
 "cells": [
  {
   "cell_type": "code",
   "execution_count": 2,
   "metadata": {},
   "outputs": [
    {
     "name": "stdout",
     "output_type": "stream",
     "text": [
      "x\n",
      "y\n",
      "z\n"
     ]
    }
   ],
   "source": [
    "class Foo:\n",
    "    def __init__(self, list):\n",
    "        self._items = list\n",
    "        # 数据长度\n",
    "        self._limit = len(self._items)\n",
    "        # 迭代的初始位置\n",
    "        self._current = 0\n",
    "\n",
    "    # 这个方法用来告诉Python具体要迭代的数据，一般就是自身\n",
    "    def __iter__(self):\n",
    "        return self\n",
    "\n",
    "    # 这个方法其实就是for循环真正要调用的函数\n",
    "    def __next__(self):\n",
    "        if self._current >= self._limit:\n",
    "            # 判断是否元素都访问完了，如果是，就停止迭代。\n",
    "            raise StopIteration\n",
    "        else:\n",
    "            self._current += 1\n",
    "            return self._items[self._current - 1]\n",
    "\n",
    "\n",
    "foo = Foo(['x', 'y', 'z'])\n",
    "# 我们已经可以迭代访问foo里面的数据了：\n",
    "for item in foo:\n",
    "    print(item)"
   ]
  },
  {
   "cell_type": "code",
   "execution_count": null,
   "metadata": {
    "collapsed": true
   },
   "outputs": [],
   "source": []
  }
 ],
 "metadata": {
  "kernelspec": {
   "display_name": "Python 3",
   "language": "python",
   "name": "python3"
  },
  "language_info": {
   "codemirror_mode": {
    "name": "ipython",
    "version": 3
   },
   "file_extension": ".py",
   "mimetype": "text/x-python",
   "name": "python",
   "nbconvert_exporter": "python",
   "pygments_lexer": "ipython3",
   "version": "3.6.3"
  }
 },
 "nbformat": 4,
 "nbformat_minor": 2
}

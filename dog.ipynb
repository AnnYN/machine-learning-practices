{
 "cells": [
  {
   "cell_type": "code",
   "execution_count": 1,
   "metadata": {},
   "outputs": [
    {
     "name": "stdout",
     "output_type": "stream",
     "text": [
      "-=CLASS VARIABLE=-\n",
      "Dog2.kind: canine\n",
      "-=INSTANCES=-\n",
      "dogX.name: Yanan\n",
      "dogY.name: Anan\n",
      "dogX.kind: canine\n",
      "dogY.kind: canine\n",
      "-=RESET CLASS VARIABLE=-\n",
      "dog2.kind(): hahaha\n",
      "dogX.kind(): hahaha\n",
      "dogY.kind(): hahaha\n"
     ]
    }
   ],
   "source": [
    "class Dog2:\n",
    "    kind = 'canine'  # class variable shared by all instances\n",
    "\n",
    "    def __init__(self, name):\n",
    "        self.name = name  # instance variable unique to each instance\n",
    "\n",
    "\n",
    "dogX = Dog2(\"Yanan\")\n",
    "dogY = Dog2(\"Anan\")\n",
    "\n",
    "print(\"-=CLASS VARIABLE=-\") # 这个kind是保存在class里的\n",
    "\n",
    "print(\"Dog2.kind: \" + Dog2.kind)\n",
    "\n",
    "print(\"-=INSTANCES=-\")\n",
    "\n",
    "print(\"dogX.name: \" + dogX.name) # name是每个instance都会各自保存的\n",
    "print(\"dogY.name: \" + dogY.name)\n",
    "print(\"dogX.kind: \" + dogX.kind) # 实际是class variable，所以从instance里面取出来也是class里面的\n",
    "print(\"dogY.kind: \" + dogY.kind)\n",
    "\n",
    "print(\"-=RESET CLASS VARIABLE=-\")\n",
    "Dog2.kind = \"hahaha\" # 因为是class variable，所以改动以后，各个instances查看的时候也就跟着变了，因为实际只有class里面保存一份\n",
    "\n",
    "print(\"dog2.kind(): \" + Dog2.kind)\n",
    "print(\"dogX.kind(): \" + dogX.kind)\n",
    "print(\"dogY.kind(): \" + dogY.kind)\n"
   ]
  },
  {
   "cell_type": "code",
   "execution_count": null,
   "metadata": {
    "collapsed": true
   },
   "outputs": [],
   "source": []
  }
 ],
 "metadata": {
  "kernelspec": {
   "display_name": "Python 3",
   "language": "python",
   "name": "python3"
  },
  "language_info": {
   "codemirror_mode": {
    "name": "ipython",
    "version": 3
   },
   "file_extension": ".py",
   "mimetype": "text/x-python",
   "name": "python",
   "nbconvert_exporter": "python",
   "pygments_lexer": "ipython3",
   "version": "3.6.3"
  }
 },
 "nbformat": 4,
 "nbformat_minor": 2
}

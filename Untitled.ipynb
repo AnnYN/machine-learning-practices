{
 "cells": [
  {
   "cell_type": "code",
   "execution_count": 1,
   "metadata": {
    "collapsed": true
   },
   "outputs": [],
   "source": [
    "import sys,os,os.path\n",
    "os.environ['http_proxy']=\"http://localhost:3128\"\n",
    "os.environ['https_proxy']=\"https://localhost:3128\""
   ]
  },
  {
   "cell_type": "code",
   "execution_count": 3,
   "metadata": {},
   "outputs": [
    {
     "name": "stdout",
     "output_type": "stream",
     "text": [
      "Downloading data from https://s3.amazonaws.com/text-datasets/imdb.npz\n",
      "17465344/17464789 [==============================] - 130s 7us/step\n"
     ]
    }
   ],
   "source": [
    "from keras.datasets import imdb\n",
    "(train_data, train_labels), (test_data, test_labels) = imdb.load_data(num_words=10000)"
   ]
  },
  {
   "cell_type": "code",
   "execution_count": 4,
   "metadata": {
    "collapsed": true
   },
   "outputs": [],
   "source": [
    "from keras import models\n",
    "from keras import layers\n",
    "model = models.Sequential()\n",
    "model.add(layers.Dense(16, activation='relu', input_shape=(10000,)))\n",
    "model.add(layers.Dense(16, activation='relu'))\n",
    "model.add(layers.Dense(1, activation='sigmoid'))"
   ]
  },
  {
   "cell_type": "code",
   "execution_count": 5,
   "metadata": {
    "collapsed": true
   },
   "outputs": [],
   "source": [
    " model.compile(optimizer='rmsprop',\n",
    "                      loss='binary_crossentropy',\n",
    "                      metrics=['accuracy'])"
   ]
  },
  {
   "cell_type": "code",
   "execution_count": 6,
   "metadata": {
    "collapsed": true
   },
   "outputs": [],
   "source": [
    "from keras import optimizers\n",
    "model.compile(optimizer=optimizers.RMSprop(lr=0.001),\n",
    "              loss='binary_crossentropy',\n",
    "              metrics=['accuracy'])"
   ]
  },
  {
   "cell_type": "code",
   "execution_count": 7,
   "metadata": {
    "collapsed": true
   },
   "outputs": [],
   "source": [
    "from keras.datasets import imdb\n",
    "(train_data, train_labels), (test_data, test_labels) = imdb.load_data(\n",
    "    num_words=10000)"
   ]
  },
  {
   "cell_type": "code",
   "execution_count": 8,
   "metadata": {
    "collapsed": true
   },
   "outputs": [],
   "source": [
    "import numpy as np\n",
    "def vectorize_sequences(sequences, dimension=10000):\n",
    "    results = np.zeros((len(sequences), dimension))\n",
    "    for i, sequence in enumerate(sequences):\n",
    "        results[i, sequence] = 1.\n",
    "    return results\n",
    "x_train = vectorize_sequences(train_data)\n",
    "x_test = vectorize_sequences(test_data)"
   ]
  },
  {
   "cell_type": "code",
   "execution_count": 10,
   "metadata": {
    "collapsed": true
   },
   "outputs": [],
   "source": [
    "y_train = np.asarray(train_labels).astype('float32')\n",
    "y_test = np.asarray(test_labels).astype('float32')"
   ]
  },
  {
   "cell_type": "code",
   "execution_count": 9,
   "metadata": {
    "collapsed": true
   },
   "outputs": [],
   "source": [
    "from keras import losses\n",
    "from keras import metrics\n",
    "model.compile(optimizer=optimizers.RMSprop(lr=0.001),\n",
    "              loss=losses.binary_crossentropy,\n",
    "              metrics=[metrics.binary_accuracy])"
   ]
  },
  {
   "cell_type": "code",
   "execution_count": null,
   "metadata": {
    "collapsed": true
   },
   "outputs": [],
   "source": []
  },
  {
   "cell_type": "code",
   "execution_count": 11,
   "metadata": {
    "collapsed": true
   },
   "outputs": [],
   "source": [
    "x_val = x_train[:10000]\n",
    "partial_x_train = x_train[10000:]\n",
    "y_val = y_train[:10000]\n",
    "partial_y_train = y_train[10000:]"
   ]
  },
  {
   "cell_type": "code",
   "execution_count": 12,
   "metadata": {},
   "outputs": [
    {
     "name": "stdout",
     "output_type": "stream",
     "text": [
      "Train on 15000 samples, validate on 10000 samples\n",
      "Epoch 1/20\n",
      "15000/15000 [==============================] - 4s 277us/step - loss: 0.5145 - acc: 0.7779 - val_loss: 0.3897 - val_acc: 0.8573\n",
      "Epoch 2/20\n",
      "15000/15000 [==============================] - 2s 125us/step - loss: 0.2989 - acc: 0.9006 - val_loss: 0.3016 - val_acc: 0.8860\n",
      "Epoch 3/20\n",
      "15000/15000 [==============================] - 2s 116us/step - loss: 0.2159 - acc: 0.9293 - val_loss: 0.2769 - val_acc: 0.8914\n",
      "Epoch 4/20\n",
      "15000/15000 [==============================] - 2s 113us/step - loss: 0.1720 - acc: 0.9435 - val_loss: 0.2763 - val_acc: 0.8906\n",
      "Epoch 5/20\n",
      "15000/15000 [==============================] - 2s 113us/step - loss: 0.1374 - acc: 0.9556 - val_loss: 0.2820 - val_acc: 0.8888\n",
      "Epoch 6/20\n",
      "15000/15000 [==============================] - 2s 113us/step - loss: 0.1163 - acc: 0.9624 - val_loss: 0.2980 - val_acc: 0.8869\n",
      "Epoch 7/20\n",
      "15000/15000 [==============================] - 2s 112us/step - loss: 0.0967 - acc: 0.9717 - val_loss: 0.3173 - val_acc: 0.8826\n",
      "Epoch 8/20\n",
      "15000/15000 [==============================] - 2s 113us/step - loss: 0.0807 - acc: 0.9773 - val_loss: 0.3390 - val_acc: 0.8816\n",
      "Epoch 9/20\n",
      "15000/15000 [==============================] - 2s 114us/step - loss: 0.0678 - acc: 0.9819 - val_loss: 0.3863 - val_acc: 0.8715\n",
      "Epoch 10/20\n",
      "15000/15000 [==============================] - 2s 114us/step - loss: 0.0566 - acc: 0.9847 - val_loss: 0.4069 - val_acc: 0.8719\n",
      "Epoch 11/20\n",
      "15000/15000 [==============================] - 2s 118us/step - loss: 0.0453 - acc: 0.9893 - val_loss: 0.4181 - val_acc: 0.8737\n",
      "Epoch 12/20\n",
      "15000/15000 [==============================] - 2s 115us/step - loss: 0.0389 - acc: 0.9906 - val_loss: 0.4392 - val_acc: 0.8735\n",
      "Epoch 13/20\n",
      "15000/15000 [==============================] - 2s 113us/step - loss: 0.0324 - acc: 0.9927 - val_loss: 0.4643 - val_acc: 0.8732\n",
      "Epoch 14/20\n",
      "15000/15000 [==============================] - 2s 113us/step - loss: 0.0268 - acc: 0.9941 - val_loss: 0.4979 - val_acc: 0.8718\n",
      "Epoch 15/20\n",
      "15000/15000 [==============================] - 2s 112us/step - loss: 0.0209 - acc: 0.9961 - val_loss: 0.5266 - val_acc: 0.8714\n",
      "Epoch 16/20\n",
      "15000/15000 [==============================] - 2s 111us/step - loss: 0.0163 - acc: 0.9975 - val_loss: 0.5633 - val_acc: 0.8697\n",
      "Epoch 17/20\n",
      "15000/15000 [==============================] - 2s 111us/step - loss: 0.0119 - acc: 0.9985 - val_loss: 0.6319 - val_acc: 0.8619\n",
      "Epoch 18/20\n",
      "15000/15000 [==============================] - 2s 111us/step - loss: 0.0116 - acc: 0.9983 - val_loss: 0.6273 - val_acc: 0.8686\n",
      "Epoch 19/20\n",
      "15000/15000 [==============================] - 2s 114us/step - loss: 0.0061 - acc: 0.9998 - val_loss: 0.7977 - val_acc: 0.8462\n",
      "Epoch 20/20\n",
      "15000/15000 [==============================] - 2s 117us/step - loss: 0.0063 - acc: 0.9997 - val_loss: 0.7446 - val_acc: 0.8562\n"
     ]
    }
   ],
   "source": [
    "model.compile(optimizer='rmsprop',\n",
    "              loss='binary_crossentropy',\n",
    "              metrics=['acc'])\n",
    "history = model.fit(partial_x_train,\n",
    "                    partial_y_train,\n",
    "                    epochs=20,\n",
    "                    batch_size=512,\n",
    "                    validation_data=(x_val, y_val))"
   ]
  },
  {
   "cell_type": "code",
   "execution_count": 16,
   "metadata": {},
   "outputs": [
    {
     "data": {
      "image/png": "[encoded data removed]",
      "text/plain": [
       "<matplotlib.figure.Figure at 0x1825c09ac8>"
      ]
     },
     "metadata": {},
     "output_type": "display_data"
    }
   ],
   "source": [
    "%matplotlib inline\n",
    "import matplotlib.pyplot as plt\n",
    "history_dict = history.history\n",
    "loss_values = history_dict['loss']\n",
    "val_loss_values = history_dict['val_loss']\n",
    "epochs = range(1, len(loss_values) + 1)\n",
    "plt.plot(epochs, loss_values, 'bo', label='Training loss')\n",
    "plt.plot(epochs, val_loss_values, 'b', label='Validation loss')\n",
    "plt.title('Training and validation loss')\n",
    "plt.title('Training and validation loss')\n",
    "plt.xlabel('Epochs')\n",
    "plt.ylabel('Loss')\n",
    "plt.legend()\n",
    "plt.show()"
   ]
  },
  {
   "cell_type": "code",
   "execution_count": null,
   "metadata": {
    "collapsed": true
   },
   "outputs": [],
   "source": []
  }
 ],
 "metadata": {
  "kernelspec": {
   "display_name": "Python 3",
   "language": "python",
   "name": "python3"
  },
  "language_info": {
   "codemirror_mode": {
    "name": "ipython",
    "version": 3
   },
   "file_extension": ".py",
   "mimetype": "text/x-python",
   "name": "python",
   "nbconvert_exporter": "python",
   "pygments_lexer": "ipython3",
   "version": "3.6.3"
  }
 },
 "nbformat": 4,
 "nbformat_minor": 2
}

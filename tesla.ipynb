{
 "cells": [
  {
   "cell_type": "code",
   "execution_count": 1,
   "metadata": {},
   "outputs": [
    {
     "name": "stdout",
     "output_type": "stream",
     "text": [
      "an ordinary car\n",
      "Tesla\n"
     ]
    }
   ],
   "source": [
    "class Car:\n",
    "    def my_name(self):\n",
    "        return \"an ordinary car\"\n",
    "\n",
    "class Tesla(Car):\n",
    "    def my_name(self):\n",
    "        return \"Tesla\"\n",
    "\n",
    "car = Car()\n",
    "print(car.my_name())\n",
    "\n",
    "tesla = Tesla()\n",
    "print(tesla.my_name())"
   ]
  },
  {
   "cell_type": "code",
   "execution_count": null,
   "metadata": {
    "collapsed": true
   },
   "outputs": [],
   "source": []
  }
 ],
 "metadata": {
  "kernelspec": {
   "display_name": "Python 3",
   "language": "python",
   "name": "python3"
  },
  "language_info": {
   "codemirror_mode": {
    "name": "ipython",
    "version": 3
   },
   "file_extension": ".py",
   "mimetype": "text/x-python",
   "name": "python",
   "nbconvert_exporter": "python",
   "pygments_lexer": "ipython3",
   "version": "3.6.3"
  }
 },
 "nbformat": 4,
 "nbformat_minor": 2
}

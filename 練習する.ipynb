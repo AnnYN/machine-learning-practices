{
 "cells": [
  {
   "cell_type": "code",
   "execution_count": 4,
   "metadata": {},
   "outputs": [
    {
     "name": "stdout",
     "output_type": "stream",
     "text": [
      "{'名字：': 'liu', '姓氏': 'yanan', 'age': '24', 'role': 'student'}\n",
      "Hello, liu yanan\n",
      "用户权限： can_add_post can_delete_post can_ban_user "
     ]
    }
   ],
   "source": [
    "# 最好是使用PyCharm来写代码，会有很多提示和修改意见。\n",
    "class User:  # 不继承，就不用括号\n",
    "    def __init__(self, first_name, last_name, **other_info):\n",
    "        self.first_name = first_name\n",
    "        self.last_name = last_name\n",
    "        self.other_info = other_info\n",
    "\n",
    "    def describe_myself(self):  # 函数的起名，体现”面向对象”的思维方式。\n",
    "        other_info = {'名字：': self.first_name, '姓氏': self.last_name}\n",
    "        for key, value in self.other_info.items():\n",
    "            other_info[key] = value\n",
    "        return other_info\n",
    "\n",
    "    def greetings(self):\n",
    "        print(\"Hello, \" + self.first_name + ' ' + self.last_name)\n",
    "\n",
    "\n",
    "class Admin(User):\n",
    "    def __init__(self, first_name, last_name, *privileges, **other_info):\n",
    "        super().__init__(first_name, last_name, **other_info)\n",
    "        self.privileges = privileges\n",
    "\n",
    "    def show_my_privileges(self):\n",
    "        print(\"用户权限： \", end='')\n",
    "        for _ in self.privileges:  # 循环变量，不用特别起名字，使用下划线就可以了\n",
    "            print(_, end=' ')  # 空格来做end，这样才能分隔开每个条目的显示。\n",
    "\n",
    "\n",
    "yanan = Admin('liu', 'yanan', 'can_add_post', 'can_delete_post', 'can_ban_user', age='24', role='student')\n",
    "print(yanan.describe_myself())\n",
    "yanan.greetings()\n",
    "yanan.show_my_privileges()"
   ]
  },
  {
   "cell_type": "code",
   "execution_count": null,
   "metadata": {
    "collapsed": true
   },
   "outputs": [],
   "source": []
  }
 ],
 "metadata": {
  "kernelspec": {
   "display_name": "Python 3",
   "language": "python",
   "name": "python3"
  },
  "language_info": {
   "codemirror_mode": {
    "name": "ipython",
    "version": 3
   },
   "file_extension": ".py",
   "mimetype": "text/x-python",
   "name": "python",
   "nbconvert_exporter": "python",
   "pygments_lexer": "ipython3",
   "version": "3.6.3"
  }
 },
 "nbformat": 4,
 "nbformat_minor": 2
}
